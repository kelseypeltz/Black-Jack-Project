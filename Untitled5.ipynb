{
  "nbformat": 4,
  "nbformat_minor": 0,
  "metadata": {
    "colab": {
      "provenance": [],
      "mount_file_id": "1-6bUjeytvmxkJmTDaFkJBLH1URED-82f",
      "authorship_tag": "ABX9TyMnBiAumuc2/yIBzf4xss3k",
      "include_colab_link": true
    },
    "kernelspec": {
      "name": "python3",
      "display_name": "Python 3"
    },
    "language_info": {
      "name": "python"
    }
  },
  "cells": [
    {
      "cell_type": "markdown",
      "metadata": {
        "id": "view-in-github",
        "colab_type": "text"
      },
      "source": [
        "<a href=\"https://colab.research.google.com/github/kelseypeltz/Black-Jack-Project/blob/main/Untitled5.ipynb\" target=\"_parent\"><img src=\"https://colab.research.google.com/assets/colab-badge.svg\" alt=\"Open In Colab\"/></a>"
      ]
    },
    {
      "cell_type": "code",
      "execution_count": 36,
      "metadata": {
        "colab": {
          "base_uri": "https://localhost:8080/"
        },
        "id": "uPR258TLoOLf",
        "outputId": "fcb3f4a4-c8fc-47df-8e09-25f433c75a90"
      },
      "outputs": [
        {
          "output_type": "stream",
          "name": "stdout",
          "text": [
            "Drive already mounted at /content/drive; to attempt to forcibly remount, call drive.mount(\"/content/drive\", force_remount=True).\n",
            "/content/drive/My Drive\n",
            "/content/drive/My Drive\n"
          ]
        }
      ],
      "source": [
        "from google.colab import drive\n",
        "drive.mount('/content/drive')\n",
        "%cd /content/drive/My Drive\n",
        "!pwd\n"
      ]
    },
    {
      "cell_type": "code",
      "source": [
        "!git clone https://github.com/kelseypeltz/Black-Jack-Project.git"
      ],
      "metadata": {
        "colab": {
          "base_uri": "https://localhost:8080/"
        },
        "id": "axRZJayBoWFK",
        "outputId": "afea29fc-0ebd-4587-b2c4-9288b726a91c"
      },
      "execution_count": 43,
      "outputs": [
        {
          "output_type": "stream",
          "name": "stdout",
          "text": [
            "Cloning into 'Black-Jack-Project'...\n",
            "remote: Enumerating objects: 88, done.\u001b[K\n",
            "remote: Counting objects: 100% (88/88), done.\u001b[K\n",
            "remote: Compressing objects: 100% (74/74), done.\u001b[K\n",
            "remote: Total 88 (delta 29), reused 0 (delta 0), pack-reused 0\u001b[K\n",
            "Unpacking objects: 100% (88/88), done.\n"
          ]
        }
      ]
    },
    {
      "cell_type": "code",
      "source": [
        "!ls Black-Jack-Project"
      ],
      "metadata": {
        "colab": {
          "base_uri": "https://localhost:8080/"
        },
        "id": "jwlKdMPQuIKm",
        "outputId": "08745e3f-da53-4a2c-aeee-1917b5371ea0"
      },
      "execution_count": 44,
      "outputs": [
        {
          "output_type": "stream",
          "name": "stdout",
          "text": [
            "code  data  README.md\n"
          ]
        }
      ]
    },
    {
      "cell_type": "code",
      "source": [
        "%cd Black-Jack-Project\n",
        "%cd data"
      ],
      "metadata": {
        "colab": {
          "base_uri": "https://localhost:8080/"
        },
        "id": "4I8U7fk0uNx4",
        "outputId": "e75ec36e-6cef-4596-fbce-c523be219d77"
      },
      "execution_count": 50,
      "outputs": [
        {
          "output_type": "stream",
          "name": "stdout",
          "text": [
            "[Errno 2] No such file or directory: 'Black-Jack-Project'\n",
            "/content/drive/MyDrive/Black-Jack-Project/Black-Jack-Project\n",
            "/content/drive/MyDrive/Black-Jack-Project/Black-Jack-Project/data\n"
          ]
        }
      ]
    },
    {
      "cell_type": "code",
      "source": [
        "!head blackjack_strategies.csv "
      ],
      "metadata": {
        "colab": {
          "base_uri": "https://localhost:8080/"
        },
        "id": "fsmxu-WYuR2t",
        "outputId": "d4733048-6b5f-41c0-d3b5-ed29337e3782"
      },
      "execution_count": 51,
      "outputs": [
        {
          "output_type": "stream",
          "name": "stdout",
          "text": [
            "score,score_dealer,hard,decision,earn,earn_if_stand,earn_if_double,earn_if_hit,should_split\n",
            "20,11,TRUE,stand,0.105197120007505,0.105197120007505,-1.75271465090645,-0.876357325453224,FALSE\n",
            "20,10,TRUE,stand,0.436741686281078,0.436741686281078,-1.70908962684133,-0.854544813420665,FALSE\n",
            "20,9,TRUE,stand,0.759325450305282,0.759325450305282,-1.70116370369502,-0.850581851847512,FALSE\n",
            "20,8,TRUE,stand,0.793191749283466,0.793191749283466,-1.70297890335009,-0.851489451675046,FALSE\n",
            "20,7,TRUE,stand,0.773225870786846,0.773225870786846,-1.70001994392238,-0.850009971961191,TRUE\n",
            "20,6,TRUE,stand,0.676074578802446,0.676074578802446,-1.70245484668876,-0.851227423344379,TRUE\n",
            "20,5,TRUE,stand,0.669858318906123,0.669858318906123,-1.7035414384812,-0.851770719240599,TRUE\n",
            "20,4,TRUE,stand,0.654962815482813,0.654962815482813,-1.70802834221467,-0.854014171107337,TRUE\n",
            "20,3,TRUE,stand,0.647613600550932,0.647613600550932,-1.70121275080831,-0.850606375404153,TRUE\n"
          ]
        }
      ]
    },
    {
      "cell_type": "code",
      "source": [
        "import pandas as pd\n",
        "strategy_df = pd.read_csv('blackjack_strategies.csv')\n",
        "strategy_df.head()"
      ],
      "metadata": {
        "colab": {
          "base_uri": "https://localhost:8080/",
          "height": 215
        },
        "id": "5mBneivUuilW",
        "outputId": "5d2fd3fa-57d9-43d8-9273-0b14af089530"
      },
      "execution_count": 56,
      "outputs": [
        {
          "output_type": "execute_result",
          "data": {
            "text/plain": [
              "   score  score_dealer  hard decision      earn  earn_if_stand  \\\n",
              "0     20            11  True    stand  0.105197       0.105197   \n",
              "1     20            10  True    stand  0.436742       0.436742   \n",
              "2     20             9  True    stand  0.759325       0.759325   \n",
              "3     20             8  True    stand  0.793192       0.793192   \n",
              "4     20             7  True    stand  0.773226       0.773226   \n",
              "\n",
              "   earn_if_double  earn_if_hit should_split  \n",
              "0       -1.752715    -0.876357        False  \n",
              "1       -1.709090    -0.854545        False  \n",
              "2       -1.701164    -0.850582        False  \n",
              "3       -1.702979    -0.851489        False  \n",
              "4       -1.700020    -0.850010         True  "
            ],
            "text/html": [
              "\n",
              "  <div id=\"df-f9ecfc49-f78b-4d48-8819-2216926810bb\">\n",
              "    <div class=\"colab-df-container\">\n",
              "      <div>\n",
              "<style scoped>\n",
              "    .dataframe tbody tr th:only-of-type {\n",
              "        vertical-align: middle;\n",
              "    }\n",
              "\n",
              "    .dataframe tbody tr th {\n",
              "        vertical-align: top;\n",
              "    }\n",
              "\n",
              "    .dataframe thead th {\n",
              "        text-align: right;\n",
              "    }\n",
              "</style>\n",
              "<table border=\"1\" class=\"dataframe\">\n",
              "  <thead>\n",
              "    <tr style=\"text-align: right;\">\n",
              "      <th></th>\n",
              "      <th>score</th>\n",
              "      <th>score_dealer</th>\n",
              "      <th>hard</th>\n",
              "      <th>decision</th>\n",
              "      <th>earn</th>\n",
              "      <th>earn_if_stand</th>\n",
              "      <th>earn_if_double</th>\n",
              "      <th>earn_if_hit</th>\n",
              "      <th>should_split</th>\n",
              "    </tr>\n",
              "  </thead>\n",
              "  <tbody>\n",
              "    <tr>\n",
              "      <th>0</th>\n",
              "      <td>20</td>\n",
              "      <td>11</td>\n",
              "      <td>True</td>\n",
              "      <td>stand</td>\n",
              "      <td>0.105197</td>\n",
              "      <td>0.105197</td>\n",
              "      <td>-1.752715</td>\n",
              "      <td>-0.876357</td>\n",
              "      <td>False</td>\n",
              "    </tr>\n",
              "    <tr>\n",
              "      <th>1</th>\n",
              "      <td>20</td>\n",
              "      <td>10</td>\n",
              "      <td>True</td>\n",
              "      <td>stand</td>\n",
              "      <td>0.436742</td>\n",
              "      <td>0.436742</td>\n",
              "      <td>-1.709090</td>\n",
              "      <td>-0.854545</td>\n",
              "      <td>False</td>\n",
              "    </tr>\n",
              "    <tr>\n",
              "      <th>2</th>\n",
              "      <td>20</td>\n",
              "      <td>9</td>\n",
              "      <td>True</td>\n",
              "      <td>stand</td>\n",
              "      <td>0.759325</td>\n",
              "      <td>0.759325</td>\n",
              "      <td>-1.701164</td>\n",
              "      <td>-0.850582</td>\n",
              "      <td>False</td>\n",
              "    </tr>\n",
              "    <tr>\n",
              "      <th>3</th>\n",
              "      <td>20</td>\n",
              "      <td>8</td>\n",
              "      <td>True</td>\n",
              "      <td>stand</td>\n",
              "      <td>0.793192</td>\n",
              "      <td>0.793192</td>\n",
              "      <td>-1.702979</td>\n",
              "      <td>-0.851489</td>\n",
              "      <td>False</td>\n",
              "    </tr>\n",
              "    <tr>\n",
              "      <th>4</th>\n",
              "      <td>20</td>\n",
              "      <td>7</td>\n",
              "      <td>True</td>\n",
              "      <td>stand</td>\n",
              "      <td>0.773226</td>\n",
              "      <td>0.773226</td>\n",
              "      <td>-1.700020</td>\n",
              "      <td>-0.850010</td>\n",
              "      <td>True</td>\n",
              "    </tr>\n",
              "  </tbody>\n",
              "</table>\n",
              "</div>\n",
              "      <button class=\"colab-df-convert\" onclick=\"convertToInteractive('df-f9ecfc49-f78b-4d48-8819-2216926810bb')\"\n",
              "              title=\"Convert this dataframe to an interactive table.\"\n",
              "              style=\"display:none;\">\n",
              "        \n",
              "  <svg xmlns=\"http://www.w3.org/2000/svg\" height=\"24px\"viewBox=\"0 0 24 24\"\n",
              "       width=\"24px\">\n",
              "    <path d=\"M0 0h24v24H0V0z\" fill=\"none\"/>\n",
              "    <path d=\"M18.56 5.44l.94 2.06.94-2.06 2.06-.94-2.06-.94-.94-2.06-.94 2.06-2.06.94zm-11 1L8.5 8.5l.94-2.06 2.06-.94-2.06-.94L8.5 2.5l-.94 2.06-2.06.94zm10 10l.94 2.06.94-2.06 2.06-.94-2.06-.94-.94-2.06-.94 2.06-2.06.94z\"/><path d=\"M17.41 7.96l-1.37-1.37c-.4-.4-.92-.59-1.43-.59-.52 0-1.04.2-1.43.59L10.3 9.45l-7.72 7.72c-.78.78-.78 2.05 0 2.83L4 21.41c.39.39.9.59 1.41.59.51 0 1.02-.2 1.41-.59l7.78-7.78 2.81-2.81c.8-.78.8-2.07 0-2.86zM5.41 20L4 18.59l7.72-7.72 1.47 1.35L5.41 20z\"/>\n",
              "  </svg>\n",
              "      </button>\n",
              "      \n",
              "  <style>\n",
              "    .colab-df-container {\n",
              "      display:flex;\n",
              "      flex-wrap:wrap;\n",
              "      gap: 12px;\n",
              "    }\n",
              "\n",
              "    .colab-df-convert {\n",
              "      background-color: #E8F0FE;\n",
              "      border: none;\n",
              "      border-radius: 50%;\n",
              "      cursor: pointer;\n",
              "      display: none;\n",
              "      fill: #1967D2;\n",
              "      height: 32px;\n",
              "      padding: 0 0 0 0;\n",
              "      width: 32px;\n",
              "    }\n",
              "\n",
              "    .colab-df-convert:hover {\n",
              "      background-color: #E2EBFA;\n",
              "      box-shadow: 0px 1px 2px rgba(60, 64, 67, 0.3), 0px 1px 3px 1px rgba(60, 64, 67, 0.15);\n",
              "      fill: #174EA6;\n",
              "    }\n",
              "\n",
              "    [theme=dark] .colab-df-convert {\n",
              "      background-color: #3B4455;\n",
              "      fill: #D2E3FC;\n",
              "    }\n",
              "\n",
              "    [theme=dark] .colab-df-convert:hover {\n",
              "      background-color: #434B5C;\n",
              "      box-shadow: 0px 1px 3px 1px rgba(0, 0, 0, 0.15);\n",
              "      filter: drop-shadow(0px 1px 2px rgba(0, 0, 0, 0.3));\n",
              "      fill: #FFFFFF;\n",
              "    }\n",
              "  </style>\n",
              "\n",
              "      <script>\n",
              "        const buttonEl =\n",
              "          document.querySelector('#df-f9ecfc49-f78b-4d48-8819-2216926810bb button.colab-df-convert');\n",
              "        buttonEl.style.display =\n",
              "          google.colab.kernel.accessAllowed ? 'block' : 'none';\n",
              "\n",
              "        async function convertToInteractive(key) {\n",
              "          const element = document.querySelector('#df-f9ecfc49-f78b-4d48-8819-2216926810bb');\n",
              "          const dataTable =\n",
              "            await google.colab.kernel.invokeFunction('convertToInteractive',\n",
              "                                                     [key], {});\n",
              "          if (!dataTable) return;\n",
              "\n",
              "          const docLinkHtml = 'Like what you see? Visit the ' +\n",
              "            '<a target=\"_blank\" href=https://colab.research.google.com/notebooks/data_table.ipynb>data table notebook</a>'\n",
              "            + ' to learn more about interactive tables.';\n",
              "          element.innerHTML = '';\n",
              "          dataTable['output_type'] = 'display_data';\n",
              "          await google.colab.output.renderOutput(dataTable, element);\n",
              "          const docLink = document.createElement('div');\n",
              "          docLink.innerHTML = docLinkHtml;\n",
              "          element.appendChild(docLink);\n",
              "        }\n",
              "      </script>\n",
              "    </div>\n",
              "  </div>\n",
              "  "
            ]
          },
          "metadata": {},
          "execution_count": 56
        }
      ]
    },
    {
      "cell_type": "code",
      "source": [
        "strategy_df['equation'] = strategy_df.score - strategy_df.score_dealer\n",
        "strategy_df.loc[strategy_df['equation']<0, 'Outcome'] = 'Won'\n",
        "strategy_df.loc[strategy_df['equation']>0, 'Outcome'] = 'Lost'\n",
        "strategy_df.loc[strategy_df['equation']==0, 'Outcome'] = 'Stand off'\n",
        "strategy_df.Outcome.value_counts()"
      ],
      "metadata": {
        "colab": {
          "base_uri": "https://localhost:8080/"
        },
        "id": "B5nUxWKnCieF",
        "outputId": "eaa2f19f-5cdf-4c28-f6fe-59b242c14097"
      },
      "execution_count": 63,
      "outputs": [
        {
          "output_type": "execute_result",
          "data": {
            "text/plain": [
              "Lost         244\n",
              "Won           45\n",
              "Stand off     11\n",
              "Name: Outcome, dtype: int64"
            ]
          },
          "metadata": {},
          "execution_count": 63
        }
      ]
    },
    {
      "cell_type": "code",
      "source": [],
      "metadata": {
        "id": "ZjNGeKpaIASH"
      },
      "execution_count": null,
      "outputs": []
    }
  ]
}